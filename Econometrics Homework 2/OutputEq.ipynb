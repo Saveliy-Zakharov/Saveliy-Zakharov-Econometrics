{
 "cells": [
  {
   "cell_type": "markdown",
   "id": "28a6129c",
   "metadata": {},
   "source": [
    "# Задачи по Эконометрике: Интерпретация коэффициентов\n",
    "Савелий Захаров\n",
    "# Output Equation"
   ]
  },
  {
   "cell_type": "markdown",
   "id": "8963830d",
   "metadata": {},
   "source": [
    "## Output Equation (Модель 1)\n",
    "\n",
    "На датасете `Labour` рассмотрим региессию **log(output) на log(capital), log(labour)**\n",
    "\n",
    "Спецификация: $\\log(output)=\\beta_0+\\beta_1\\log(capital)+\\beta_2log(labour)+u$"
   ]
  },
  {
   "cell_type": "code",
   "execution_count": 33,
   "id": "f9ec2d61",
   "metadata": {},
   "outputs": [],
   "source": [
    "import numpy as np # linear algebra \n",
    "import pandas as pd # data processing, CSV file I/O (e.g. pd.read_csv)\n",
    "# stats models: regression fitting via formulas\n",
    "import statsmodels.formula.api as smf\n",
    "# stats models: regression fitting via matrices of regression design\n",
    "import statsmodels.api as sm"
   ]
  },
  {
   "cell_type": "code",
   "execution_count": 34,
   "id": "1d0ee57e",
   "metadata": {},
   "outputs": [
    {
     "data": {
      "text/html": [
       "<div>\n",
       "<style scoped>\n",
       "    .dataframe tbody tr th:only-of-type {\n",
       "        vertical-align: middle;\n",
       "    }\n",
       "\n",
       "    .dataframe tbody tr th {\n",
       "        vertical-align: top;\n",
       "    }\n",
       "\n",
       "    .dataframe thead th {\n",
       "        text-align: right;\n",
       "    }\n",
       "</style>\n",
       "<table border=\"1\" class=\"dataframe\">\n",
       "  <thead>\n",
       "    <tr style=\"text-align: right;\">\n",
       "      <th></th>\n",
       "      <th>capital</th>\n",
       "      <th>labour</th>\n",
       "      <th>output</th>\n",
       "      <th>wage</th>\n",
       "    </tr>\n",
       "  </thead>\n",
       "  <tbody>\n",
       "    <tr>\n",
       "      <th>0</th>\n",
       "      <td>2.606563</td>\n",
       "      <td>184</td>\n",
       "      <td>9.250759</td>\n",
       "      <td>43.080307</td>\n",
       "    </tr>\n",
       "    <tr>\n",
       "      <th>1</th>\n",
       "      <td>1.323237</td>\n",
       "      <td>91</td>\n",
       "      <td>3.664310</td>\n",
       "      <td>27.780016</td>\n",
       "    </tr>\n",
       "    <tr>\n",
       "      <th>2</th>\n",
       "      <td>22.093692</td>\n",
       "      <td>426</td>\n",
       "      <td>28.781516</td>\n",
       "      <td>44.467748</td>\n",
       "    </tr>\n",
       "    <tr>\n",
       "      <th>3</th>\n",
       "      <td>10.737851</td>\n",
       "      <td>72</td>\n",
       "      <td>4.124642</td>\n",
       "      <td>39.734710</td>\n",
       "    </tr>\n",
       "    <tr>\n",
       "      <th>4</th>\n",
       "      <td>1.161365</td>\n",
       "      <td>46</td>\n",
       "      <td>2.890150</td>\n",
       "      <td>34.650709</td>\n",
       "    </tr>\n",
       "  </tbody>\n",
       "</table>\n",
       "</div>"
      ],
      "text/plain": [
       "     capital  labour     output       wage\n",
       "0   2.606563     184   9.250759  43.080307\n",
       "1   1.323237      91   3.664310  27.780016\n",
       "2  22.093692     426  28.781516  44.467748\n",
       "3  10.737851      72   4.124642  39.734710\n",
       "4   1.161365      46   2.890150  34.650709"
      ]
     },
     "execution_count": 34,
     "metadata": {},
     "output_type": "execute_result"
    }
   ],
   "source": [
    "df = pd.read_csv('/Users/saveliyzakharov/Downloads/Econometrica-master-2/python-notebooks/data-csv/Labour.csv')\n",
    "df.head()"
   ]
  },
  {
   "cell_type": "markdown",
   "id": "a23ff2d0",
   "metadata": {},
   "source": [
    "### Способ оценивания через спецификацию"
   ]
  },
  {
   "cell_type": "code",
   "execution_count": 35,
   "id": "ddd1e245",
   "metadata": {},
   "outputs": [
    {
     "data": {
      "text/plain": [
       "Intercept         -1.711\n",
       "np.log(capital)    0.208\n",
       "np.log(labour)     0.715\n",
       "dtype: float64"
      ]
     },
     "execution_count": 35,
     "metadata": {},
     "output_type": "execute_result"
    }
   ],
   "source": [
    "# специфицируем модель через формулу\n",
    "output_eq1 = smf.ols(formula='np.log(output)~np.log(capital)+np.log(labour)', data=df).fit()\n",
    "# Коэфициенты модели с округление\n",
    "output_eq1.params.round(3)"
   ]
  },
  {
   "cell_type": "markdown",
   "id": "3e9b99f8",
   "metadata": {},
   "source": [
    "### Интерпретация модели\n",
    "1) При увеличении капитала на 1%, выпуск увеличивается на 0.208%\n",
    "2) При увеличении количества рабочих на 1%, выпуска возрастает на 0.715% при прочих равных условиях"
   ]
  },
  {
   "cell_type": "markdown",
   "id": "7e75773b",
   "metadata": {},
   "source": [
    "## Output Equation (Модель 2)\n",
    "\n",
    "На датасете `Labour` рассмотрим региессию **log(output) на log(capital), log(labour), log(wage)**\n",
    "\n",
    "Спецификация: $\\log(output)=\\beta_0+\\beta_1\\log(capital)+\\beta_2log(labour)+\\beta_3log(wage)+u$"
   ]
  },
  {
   "cell_type": "markdown",
   "id": "76ba2a3f",
   "metadata": {},
   "source": [
    "### Способ оценивания через спецификацию"
   ]
  },
  {
   "cell_type": "code",
   "execution_count": 38,
   "id": "2cbb3251",
   "metadata": {},
   "outputs": [
    {
     "data": {
      "text/plain": [
       "Intercept         -5.007\n",
       "np.log(capital)    0.149\n",
       "np.log(labour)     0.720\n",
       "np.log(wage)       0.921\n",
       "dtype: float64"
      ]
     },
     "execution_count": 38,
     "metadata": {},
     "output_type": "execute_result"
    }
   ],
   "source": [
    "# специфицируем модель через формулу\n",
    "output_eq1 = smf.ols(formula='np.log(output)~np.log(capital)+np.log(labour)+np.log(wage)', data=df).fit()\n",
    "# Коэфициенты модели с округление\n",
    "output_eq1.params.round(3)"
   ]
  },
  {
   "cell_type": "markdown",
   "id": "5919ce0e",
   "metadata": {},
   "source": [
    "### Интерпретация модели\n",
    "1) При увеличении количества рабочих на 1%, выпуск возрастает на 0.72%\n",
    "2) При увеличении капитала на 1%, выпуск увеличивается на 0.149%, при прочих равных"
   ]
  }
 ],
 "metadata": {
  "kernelspec": {
   "display_name": "Python 3 (ipykernel)",
   "language": "python",
   "name": "python3"
  },
  "language_info": {
   "codemirror_mode": {
    "name": "ipython",
    "version": 3
   },
   "file_extension": ".py",
   "mimetype": "text/x-python",
   "name": "python",
   "nbconvert_exporter": "python",
   "pygments_lexer": "ipython3",
   "version": "3.9.16"
  }
 },
 "nbformat": 4,
 "nbformat_minor": 5
}
