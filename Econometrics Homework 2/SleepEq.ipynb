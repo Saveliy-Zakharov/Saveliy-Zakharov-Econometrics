{
 "cells": [
  {
   "cell_type": "markdown",
   "id": "a5c06b50",
   "metadata": {},
   "source": [
    "# Задачи по Эконометрике: Интерпретация коэффициентов\n",
    "Захаров Савелий\n",
    "# Sleep Equation"
   ]
  },
  {
   "cell_type": "markdown",
   "id": "2f93047d",
   "metadata": {},
   "source": [
    "## Sleep Equation (Модель 1)\n",
    "\n",
    "На датасете `sleep75` рассмотрим региессию **sleep на totwrk, male**\n",
    "\n",
    "Спецификация: $sleep=\\beta_0+\\beta_1totwrk+\\beta_2male+u$"
   ]
  },
  {
   "cell_type": "code",
   "execution_count": 1,
   "id": "26858fa7",
   "metadata": {},
   "outputs": [],
   "source": [
    "import numpy as np # linear algebra \n",
    "import pandas as pd # data processing, CSV file I/O (e.g. pd.read_csv)\n",
    "# stats models: regression fitting via formulas\n",
    "import statsmodels.formula.api as smf\n",
    "# stats models: regression fitting via matrices of regression design\n",
    "import statsmodels.api as sm"
   ]
  },
  {
   "cell_type": "code",
   "execution_count": 2,
   "id": "cad28da3",
   "metadata": {},
   "outputs": [],
   "source": [
    "df = pd.read_csv('/Users/saveliyzakharov/Downloads/Econometrica-master-2/python-notebooks/data-csv/sleep75.csv')"
   ]
  },
  {
   "cell_type": "markdown",
   "id": "2f77e322",
   "metadata": {},
   "source": [
    "### Cпособ оценивания через спецификацию"
   ]
  },
  {
   "cell_type": "code",
   "execution_count": 3,
   "id": "c43e651e",
   "metadata": {},
   "outputs": [
    {
     "data": {
      "text/plain": [
       "Intercept    3573.20\n",
       "totwrk         -0.17\n",
       "male           88.84\n",
       "dtype: float64"
      ]
     },
     "execution_count": 3,
     "metadata": {},
     "output_type": "execute_result"
    }
   ],
   "source": [
    "# специфицируем модель через формулу\n",
    "sleep_eq1 = smf.ols(formula='sleep~totwrk+male', data=df).fit()\n",
    "# Коэфициенты модели с округление\n",
    "sleep_eq1.params.round(2)"
   ]
  },
  {
   "cell_type": "code",
   "execution_count": 4,
   "id": "c4d775a0",
   "metadata": {},
   "outputs": [
    {
     "data": {
      "text/plain": [
       "Intercept    3573.20\n",
       "totwrk         -0.17\n",
       "male           88.84\n",
       "dtype: float64"
      ]
     },
     "execution_count": 4,
     "metadata": {},
     "output_type": "execute_result"
    }
   ],
   "source": [
    "# Альтеративно\n",
    "sleep_eq2 = sm.OLS.from_formula(formula='sleep~totwrk+male', data=df).fit()\n",
    "# Коэфициенты модели с округление\n",
    "sleep_eq2.params.round(2)"
   ]
  },
  {
   "cell_type": "markdown",
   "id": "59f6bdb0",
   "metadata": {},
   "source": [
    "### Интерпретация модели"
   ]
  },
  {
   "cell_type": "markdown",
   "id": "bcd4ec85",
   "metadata": {},
   "source": [
    "1) При увеличении количества рабочих минут в неделю на единицу, кол-во сна в неделю уменьшается на 0.17.\n",
    "2) Мужчины спят в среднем на 88.84 минуты больше."
   ]
  },
  {
   "cell_type": "markdown",
   "id": "75a97e35",
   "metadata": {},
   "source": [
    "## Sleep Equation (Модель 2)\n",
    "На датасете `sleep75` рассмотрим региессию **sleep на totwrk, male, smsa, age, south, yngkid, marr, union**\n",
    "\n",
    "Спецификация: $sleep=\\beta_0+\\beta_1totwrk+\\beta_2male+\\cdots+u$"
   ]
  },
  {
   "cell_type": "code",
   "execution_count": 41,
   "id": "129ba41f",
   "metadata": {},
   "outputs": [
    {
     "data": {
      "text/html": [
       "<div>\n",
       "<style scoped>\n",
       "    .dataframe tbody tr th:only-of-type {\n",
       "        vertical-align: middle;\n",
       "    }\n",
       "\n",
       "    .dataframe tbody tr th {\n",
       "        vertical-align: top;\n",
       "    }\n",
       "\n",
       "    .dataframe thead th {\n",
       "        text-align: right;\n",
       "    }\n",
       "</style>\n",
       "<table border=\"1\" class=\"dataframe\">\n",
       "  <thead>\n",
       "    <tr style=\"text-align: right;\">\n",
       "      <th></th>\n",
       "      <th>sleep</th>\n",
       "      <th>totwrk</th>\n",
       "      <th>male</th>\n",
       "      <th>smsa</th>\n",
       "      <th>age</th>\n",
       "      <th>south</th>\n",
       "      <th>yngkid</th>\n",
       "      <th>marr</th>\n",
       "      <th>union</th>\n",
       "    </tr>\n",
       "  </thead>\n",
       "  <tbody>\n",
       "    <tr>\n",
       "      <th>count</th>\n",
       "      <td>706.000000</td>\n",
       "      <td>706.000000</td>\n",
       "      <td>706.000000</td>\n",
       "      <td>706.000000</td>\n",
       "      <td>706.000000</td>\n",
       "      <td>706.000000</td>\n",
       "      <td>706.000000</td>\n",
       "      <td>706.00000</td>\n",
       "      <td>706.000000</td>\n",
       "    </tr>\n",
       "    <tr>\n",
       "      <th>mean</th>\n",
       "      <td>3266.355524</td>\n",
       "      <td>2122.920680</td>\n",
       "      <td>0.566572</td>\n",
       "      <td>0.399433</td>\n",
       "      <td>38.815864</td>\n",
       "      <td>0.184136</td>\n",
       "      <td>0.128895</td>\n",
       "      <td>0.82153</td>\n",
       "      <td>0.218130</td>\n",
       "    </tr>\n",
       "    <tr>\n",
       "      <th>std</th>\n",
       "      <td>444.413448</td>\n",
       "      <td>947.470123</td>\n",
       "      <td>0.495900</td>\n",
       "      <td>0.490129</td>\n",
       "      <td>11.342637</td>\n",
       "      <td>0.387870</td>\n",
       "      <td>0.335321</td>\n",
       "      <td>0.38318</td>\n",
       "      <td>0.413269</td>\n",
       "    </tr>\n",
       "    <tr>\n",
       "      <th>min</th>\n",
       "      <td>755.000000</td>\n",
       "      <td>0.000000</td>\n",
       "      <td>0.000000</td>\n",
       "      <td>0.000000</td>\n",
       "      <td>23.000000</td>\n",
       "      <td>0.000000</td>\n",
       "      <td>0.000000</td>\n",
       "      <td>0.00000</td>\n",
       "      <td>0.000000</td>\n",
       "    </tr>\n",
       "    <tr>\n",
       "      <th>25%</th>\n",
       "      <td>3015.000000</td>\n",
       "      <td>1553.500000</td>\n",
       "      <td>0.000000</td>\n",
       "      <td>0.000000</td>\n",
       "      <td>29.000000</td>\n",
       "      <td>0.000000</td>\n",
       "      <td>0.000000</td>\n",
       "      <td>1.00000</td>\n",
       "      <td>0.000000</td>\n",
       "    </tr>\n",
       "    <tr>\n",
       "      <th>50%</th>\n",
       "      <td>3270.500000</td>\n",
       "      <td>2288.000000</td>\n",
       "      <td>1.000000</td>\n",
       "      <td>0.000000</td>\n",
       "      <td>36.000000</td>\n",
       "      <td>0.000000</td>\n",
       "      <td>0.000000</td>\n",
       "      <td>1.00000</td>\n",
       "      <td>0.000000</td>\n",
       "    </tr>\n",
       "    <tr>\n",
       "      <th>75%</th>\n",
       "      <td>3532.250000</td>\n",
       "      <td>2691.750000</td>\n",
       "      <td>1.000000</td>\n",
       "      <td>1.000000</td>\n",
       "      <td>48.000000</td>\n",
       "      <td>0.000000</td>\n",
       "      <td>0.000000</td>\n",
       "      <td>1.00000</td>\n",
       "      <td>0.000000</td>\n",
       "    </tr>\n",
       "    <tr>\n",
       "      <th>max</th>\n",
       "      <td>4695.000000</td>\n",
       "      <td>6415.000000</td>\n",
       "      <td>1.000000</td>\n",
       "      <td>1.000000</td>\n",
       "      <td>65.000000</td>\n",
       "      <td>1.000000</td>\n",
       "      <td>1.000000</td>\n",
       "      <td>1.00000</td>\n",
       "      <td>1.000000</td>\n",
       "    </tr>\n",
       "  </tbody>\n",
       "</table>\n",
       "</div>"
      ],
      "text/plain": [
       "             sleep       totwrk        male        smsa         age  \\\n",
       "count   706.000000   706.000000  706.000000  706.000000  706.000000   \n",
       "mean   3266.355524  2122.920680    0.566572    0.399433   38.815864   \n",
       "std     444.413448   947.470123    0.495900    0.490129   11.342637   \n",
       "min     755.000000     0.000000    0.000000    0.000000   23.000000   \n",
       "25%    3015.000000  1553.500000    0.000000    0.000000   29.000000   \n",
       "50%    3270.500000  2288.000000    1.000000    0.000000   36.000000   \n",
       "75%    3532.250000  2691.750000    1.000000    1.000000   48.000000   \n",
       "max    4695.000000  6415.000000    1.000000    1.000000   65.000000   \n",
       "\n",
       "            south      yngkid       marr       union  \n",
       "count  706.000000  706.000000  706.00000  706.000000  \n",
       "mean     0.184136    0.128895    0.82153    0.218130  \n",
       "std      0.387870    0.335321    0.38318    0.413269  \n",
       "min      0.000000    0.000000    0.00000    0.000000  \n",
       "25%      0.000000    0.000000    1.00000    0.000000  \n",
       "50%      0.000000    0.000000    1.00000    0.000000  \n",
       "75%      0.000000    0.000000    1.00000    0.000000  \n",
       "max      1.000000    1.000000    1.00000    1.000000  "
      ]
     },
     "execution_count": 41,
     "metadata": {},
     "output_type": "execute_result"
    }
   ],
   "source": [
    "# Описательные статистики по переменным модели\n",
    "df[['sleep', 'totwrk', 'male', 'smsa', 'age', 'south', 'yngkid', 'marr', 'union']].describe()"
   ]
  },
  {
   "cell_type": "markdown",
   "id": "e430b2f0",
   "metadata": {},
   "source": [
    "### Cпособ оценивания через спецификацию"
   ]
  },
  {
   "cell_type": "code",
   "execution_count": 42,
   "id": "df9db1d8",
   "metadata": {},
   "outputs": [
    {
     "data": {
      "text/plain": [
       "Intercept    3446.83\n",
       "totwrk         -0.17\n",
       "male           87.11\n",
       "smsa          -54.19\n",
       "age             2.71\n",
       "south         102.27\n",
       "yngkid        -13.05\n",
       "marr           31.36\n",
       "union          11.87\n",
       "dtype: float64"
      ]
     },
     "execution_count": 42,
     "metadata": {},
     "output_type": "execute_result"
    }
   ],
   "source": [
    "# специфицируем моделл через формулу\n",
    "sleep_eq1 = smf.ols(formula='sleep~totwrk+male+smsa+age+south+yngkid+marr+union', data=df).fit()\n",
    "# Коэфициенты модели с округление\n",
    "sleep_eq1.params.round(2)"
   ]
  },
  {
   "cell_type": "code",
   "execution_count": 43,
   "id": "0fbd85e3",
   "metadata": {},
   "outputs": [
    {
     "data": {
      "text/plain": [
       "706.0"
      ]
     },
     "execution_count": 43,
     "metadata": {},
     "output_type": "execute_result"
    }
   ],
   "source": [
    "# Число наблюдений, под которые подгонялась модель\n",
    "sleep_eq1.nobs"
   ]
  },
  {
   "cell_type": "code",
   "execution_count": 44,
   "id": "6178bd03",
   "metadata": {},
   "outputs": [
    {
     "data": {
      "text/plain": [
       "Intercept    3446.83\n",
       "totwrk         -0.17\n",
       "male           87.11\n",
       "smsa          -54.19\n",
       "age             2.71\n",
       "south         102.27\n",
       "yngkid        -13.05\n",
       "marr           31.36\n",
       "union          11.87\n",
       "dtype: float64"
      ]
     },
     "execution_count": 44,
     "metadata": {},
     "output_type": "execute_result"
    }
   ],
   "source": [
    "# Альтеративно\n",
    "sleep_eq2 = sm.OLS.from_formula(formula='sleep~totwrk+male+smsa+age+south+yngkid+marr+union', \n",
    "                                data=df).fit()\n",
    "# Коэфициенты модели с округление\n",
    "sleep_eq2.params.round(2)"
   ]
  },
  {
   "cell_type": "markdown",
   "id": "91d1f4a7",
   "metadata": {},
   "source": [
    "### Интерпретация модели\n",
    "1) При увеличении количества рабочих минут в неделю на единицу, кол-во сна в неделю уменьшается на 0.17.\n",
    "2) Мужчины спят в среднем на 87.11 минуты больше."
   ]
  },
  {
   "cell_type": "markdown",
   "id": "a79f9eb1",
   "metadata": {},
   "source": [
    "## Sleep Equation (Модель 3)\n",
    "На датасете `sleep75` рассмотрим региессию **sleep на log(hrwage), smsa, totwrk, male, marr, age, south, yngkid**\n",
    "\n",
    "Спецификация: $sleep=\\beta_0+\\beta_1\\log(hrwage)+\\cdots+u$"
   ]
  },
  {
   "cell_type": "code",
   "execution_count": 47,
   "id": "a1392acf",
   "metadata": {},
   "outputs": [
    {
     "data": {
      "text/html": [
       "<div>\n",
       "<style scoped>\n",
       "    .dataframe tbody tr th:only-of-type {\n",
       "        vertical-align: middle;\n",
       "    }\n",
       "\n",
       "    .dataframe tbody tr th {\n",
       "        vertical-align: top;\n",
       "    }\n",
       "\n",
       "    .dataframe thead th {\n",
       "        text-align: right;\n",
       "    }\n",
       "</style>\n",
       "<table border=\"1\" class=\"dataframe\">\n",
       "  <thead>\n",
       "    <tr style=\"text-align: right;\">\n",
       "      <th></th>\n",
       "      <th>sleep</th>\n",
       "      <th>hrwage</th>\n",
       "      <th>smsa</th>\n",
       "      <th>totwrk</th>\n",
       "      <th>male</th>\n",
       "      <th>marr</th>\n",
       "      <th>age</th>\n",
       "      <th>south</th>\n",
       "      <th>yngkid</th>\n",
       "    </tr>\n",
       "  </thead>\n",
       "  <tbody>\n",
       "    <tr>\n",
       "      <th>count</th>\n",
       "      <td>706.000000</td>\n",
       "      <td>532.000000</td>\n",
       "      <td>706.000000</td>\n",
       "      <td>706.000000</td>\n",
       "      <td>706.000000</td>\n",
       "      <td>706.00000</td>\n",
       "      <td>706.000000</td>\n",
       "      <td>706.000000</td>\n",
       "      <td>706.000000</td>\n",
       "    </tr>\n",
       "    <tr>\n",
       "      <th>mean</th>\n",
       "      <td>3266.355524</td>\n",
       "      <td>5.082839</td>\n",
       "      <td>0.399433</td>\n",
       "      <td>2122.920680</td>\n",
       "      <td>0.566572</td>\n",
       "      <td>0.82153</td>\n",
       "      <td>38.815864</td>\n",
       "      <td>0.184136</td>\n",
       "      <td>0.128895</td>\n",
       "    </tr>\n",
       "    <tr>\n",
       "      <th>std</th>\n",
       "      <td>444.413448</td>\n",
       "      <td>3.704385</td>\n",
       "      <td>0.490129</td>\n",
       "      <td>947.470123</td>\n",
       "      <td>0.495900</td>\n",
       "      <td>0.38318</td>\n",
       "      <td>11.342637</td>\n",
       "      <td>0.387870</td>\n",
       "      <td>0.335321</td>\n",
       "    </tr>\n",
       "    <tr>\n",
       "      <th>min</th>\n",
       "      <td>755.000000</td>\n",
       "      <td>0.350000</td>\n",
       "      <td>0.000000</td>\n",
       "      <td>0.000000</td>\n",
       "      <td>0.000000</td>\n",
       "      <td>0.00000</td>\n",
       "      <td>23.000000</td>\n",
       "      <td>0.000000</td>\n",
       "      <td>0.000000</td>\n",
       "    </tr>\n",
       "    <tr>\n",
       "      <th>25%</th>\n",
       "      <td>3015.000000</td>\n",
       "      <td>2.890002</td>\n",
       "      <td>0.000000</td>\n",
       "      <td>1553.500000</td>\n",
       "      <td>0.000000</td>\n",
       "      <td>1.00000</td>\n",
       "      <td>29.000000</td>\n",
       "      <td>0.000000</td>\n",
       "      <td>0.000000</td>\n",
       "    </tr>\n",
       "    <tr>\n",
       "      <th>50%</th>\n",
       "      <td>3270.500000</td>\n",
       "      <td>4.379999</td>\n",
       "      <td>0.000000</td>\n",
       "      <td>2288.000000</td>\n",
       "      <td>1.000000</td>\n",
       "      <td>1.00000</td>\n",
       "      <td>36.000000</td>\n",
       "      <td>0.000000</td>\n",
       "      <td>0.000000</td>\n",
       "    </tr>\n",
       "    <tr>\n",
       "      <th>75%</th>\n",
       "      <td>3532.250000</td>\n",
       "      <td>6.210001</td>\n",
       "      <td>1.000000</td>\n",
       "      <td>2691.750000</td>\n",
       "      <td>1.000000</td>\n",
       "      <td>1.00000</td>\n",
       "      <td>48.000000</td>\n",
       "      <td>0.000000</td>\n",
       "      <td>0.000000</td>\n",
       "    </tr>\n",
       "    <tr>\n",
       "      <th>max</th>\n",
       "      <td>4695.000000</td>\n",
       "      <td>35.509987</td>\n",
       "      <td>1.000000</td>\n",
       "      <td>6415.000000</td>\n",
       "      <td>1.000000</td>\n",
       "      <td>1.00000</td>\n",
       "      <td>65.000000</td>\n",
       "      <td>1.000000</td>\n",
       "      <td>1.000000</td>\n",
       "    </tr>\n",
       "  </tbody>\n",
       "</table>\n",
       "</div>"
      ],
      "text/plain": [
       "             sleep      hrwage        smsa       totwrk        male  \\\n",
       "count   706.000000  532.000000  706.000000   706.000000  706.000000   \n",
       "mean   3266.355524    5.082839    0.399433  2122.920680    0.566572   \n",
       "std     444.413448    3.704385    0.490129   947.470123    0.495900   \n",
       "min     755.000000    0.350000    0.000000     0.000000    0.000000   \n",
       "25%    3015.000000    2.890002    0.000000  1553.500000    0.000000   \n",
       "50%    3270.500000    4.379999    0.000000  2288.000000    1.000000   \n",
       "75%    3532.250000    6.210001    1.000000  2691.750000    1.000000   \n",
       "max    4695.000000   35.509987    1.000000  6415.000000    1.000000   \n",
       "\n",
       "            marr         age       south      yngkid  \n",
       "count  706.00000  706.000000  706.000000  706.000000  \n",
       "mean     0.82153   38.815864    0.184136    0.128895  \n",
       "std      0.38318   11.342637    0.387870    0.335321  \n",
       "min      0.00000   23.000000    0.000000    0.000000  \n",
       "25%      1.00000   29.000000    0.000000    0.000000  \n",
       "50%      1.00000   36.000000    0.000000    0.000000  \n",
       "75%      1.00000   48.000000    0.000000    0.000000  \n",
       "max      1.00000   65.000000    1.000000    1.000000  "
      ]
     },
     "execution_count": 47,
     "metadata": {},
     "output_type": "execute_result"
    }
   ],
   "source": [
    "# Описательные статистики по переменным модели\n",
    "df[['sleep', 'hrwage', 'smsa', 'totwrk', 'male', 'marr', 'age', 'south', 'yngkid']].describe()"
   ]
  },
  {
   "cell_type": "markdown",
   "id": "7d2f5559",
   "metadata": {},
   "source": [
    "*Замечание*: есть пропущенные значения по hrwage\n",
    "### Первый способ оценивания: \n",
    "через спецификацию"
   ]
  },
  {
   "cell_type": "code",
   "execution_count": 48,
   "id": "666568d6",
   "metadata": {},
   "outputs": [
    {
     "data": {
      "text/plain": [
       "Intercept         3440.19\n",
       "np.log(hrwage)      -1.39\n",
       "smsa               -36.96\n",
       "totwrk              -0.16\n",
       "male                36.87\n",
       "marr                53.34\n",
       "age                  2.37\n",
       "south               76.27\n",
       "yngkid              47.92\n",
       "dtype: float64"
      ]
     },
     "execution_count": 48,
     "metadata": {},
     "output_type": "execute_result"
    }
   ],
   "source": [
    "# специфицируем моделл через формулу\n",
    "sleep_eq1 = smf.ols(formula='sleep~np.log(hrwage)+smsa+totwrk+male+marr+age+south+yngkid', data=df).fit()\n",
    "# Коэфициенты модели с округление\n",
    "sleep_eq1.params.round(2)"
   ]
  },
  {
   "cell_type": "code",
   "execution_count": 49,
   "id": "0c7fb8aa",
   "metadata": {},
   "outputs": [
    {
     "data": {
      "text/plain": [
       "532.0"
      ]
     },
     "execution_count": 49,
     "metadata": {},
     "output_type": "execute_result"
    }
   ],
   "source": [
    "# Число наблюдений, под которые подгонялась модель\n",
    "sleep_eq1.nobs"
   ]
  },
  {
   "cell_type": "code",
   "execution_count": 50,
   "id": "588cbca0",
   "metadata": {},
   "outputs": [
    {
     "data": {
      "text/plain": [
       "Intercept         3440.19\n",
       "np.log(hrwage)      -1.39\n",
       "smsa               -36.96\n",
       "totwrk              -0.16\n",
       "male                36.87\n",
       "marr                53.34\n",
       "age                  2.37\n",
       "south               76.27\n",
       "yngkid              47.92\n",
       "dtype: float64"
      ]
     },
     "execution_count": 50,
     "metadata": {},
     "output_type": "execute_result"
    }
   ],
   "source": [
    "# Альтеративно\n",
    "sleep_eq2 = sm.OLS.from_formula(formula='sleep~np.log(hrwage)+smsa+totwrk+male+marr+age+south+yngkid', \n",
    "                                data=df).fit()\n",
    "# Коэфициенты модели с округление\n",
    "sleep_eq2.params.round(2)"
   ]
  },
  {
   "cell_type": "markdown",
   "id": "f2b00d19",
   "metadata": {},
   "source": [
    "### Интерпретация модели\n",
    "1) Люди живущие в мегаполисе в среднем спят меньше на 36.96 минут.\n",
    "2) При изменении почасовой оплаты на 1% человек спит на 0.0139 минуты в неделю меньше"
   ]
  }
 ],
 "metadata": {
  "kernelspec": {
   "display_name": "Python 3 (ipykernel)",
   "language": "python",
   "name": "python3"
  },
  "language_info": {
   "codemirror_mode": {
    "name": "ipython",
    "version": 3
   },
   "file_extension": ".py",
   "mimetype": "text/x-python",
   "name": "python",
   "nbconvert_exporter": "python",
   "pygments_lexer": "ipython3",
   "version": "3.9.16"
  }
 },
 "nbformat": 4,
 "nbformat_minor": 5
}
